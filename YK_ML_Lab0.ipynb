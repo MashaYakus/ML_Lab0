{
  "nbformat": 4,
  "nbformat_minor": 0,
  "metadata": {
    "colab": {
      "provenance": [],
      "collapsed_sections": [],
      "include_colab_link": true
    },
    "kernelspec": {
      "name": "python3",
      "display_name": "Python 3"
    },
    "language_info": {
      "name": "python"
    }
  },
  "cells": [
    {
      "cell_type": "markdown",
      "metadata": {
        "id": "view-in-github",
        "colab_type": "text"
      },
      "source": [
        "<a href=\"https://colab.research.google.com/github/MashaYakus/ML_Lab0/blob/main/YK_ML_Lab0.ipynb\" target=\"_parent\"><img src=\"https://colab.research.google.com/assets/colab-badge.svg\" alt=\"Open In Colab\"/></a>"
      ]
    },
    {
      "cell_type": "markdown",
      "source": [
        "Якушкина Мария 407"
      ],
      "metadata": {
        "id": "BPGsR4DmJ_b-"
      }
    },
    {
      "cell_type": "markdown",
      "source": [
        "# Лабораторная работа 0"
      ],
      "metadata": {
        "id": "7RY4ow6kITJA"
      }
    },
    {
      "cell_type": "markdown",
      "source": [
        "##Data Mining и исследование данных\n"
      ],
      "metadata": {
        "id": "heiC0IIRIaLZ"
      }
    },
    {
      "cell_type": "code",
      "source": [
        "import pandas as pd\n",
        "import matplotlib.pyplot as plt\n",
        "import seaborn as sns\n",
        "import numpy as np"
      ],
      "metadata": {
        "id": "kajqM4EVIfFv"
      },
      "execution_count": null,
      "outputs": []
    },
    {
      "cell_type": "markdown",
      "source": [
        "Машинное обучение плотно проникло во все сферы нашей жизни, даже в медицину. Сейчас существует большое количество моделей, которые помогают врачам с изучением результатов обследований (например, поиск поражений легких на снимках кт, поиск переломов на рентген-снимках итд) и с постановкой диагнозов. Я тоже хочу попробовать связать МЛ с медицинской диагностикой.\n"
      ],
      "metadata": {
        "id": "cAJBN77vInDy"
      }
    },
    {
      "cell_type": "markdown",
      "source": [
        "## Постановка задачи"
      ],
      "metadata": {
        "id": "2Lb6cws5JHii"
      }
    },
    {
      "cell_type": "markdown",
      "source": [
        "Имеется датасет с информацией о пациентах США. Нужно выявить пациентов подверженных инсульту"
      ],
      "metadata": {
        "id": "t4k-S7TJJgHd"
      }
    },
    {
      "cell_type": "code",
      "source": [
        "df = pd.read_csv('brain_stroke.csv')"
      ],
      "metadata": {
        "id": "bD5bRqCmKYqa"
      },
      "execution_count": null,
      "outputs": []
    },
    {
      "cell_type": "code",
      "source": [
        "df.head()"
      ],
      "metadata": {
        "colab": {
          "base_uri": "https://localhost:8080/",
          "height": 206
        },
        "id": "W3K5u_42LVci",
        "outputId": "68db111e-bf7b-4a3c-a90e-7637790133b6"
      },
      "execution_count": null,
      "outputs": [
        {
          "output_type": "execute_result",
          "data": {
            "text/plain": [
              "   gender   age  hypertension  heart_disease ever_married      work_type  \\\n",
              "0    Male  67.0             0              1          Yes        Private   \n",
              "1    Male  80.0             0              1          Yes        Private   \n",
              "2  Female  49.0             0              0          Yes        Private   \n",
              "3  Female  79.0             1              0          Yes  Self-employed   \n",
              "4    Male  81.0             0              0          Yes        Private   \n",
              "\n",
              "  Residence_type  avg_glucose_level   bmi   smoking_status  stroke  \n",
              "0          Urban             228.69  36.6  formerly smoked       1  \n",
              "1          Rural             105.92  32.5     never smoked       1  \n",
              "2          Urban             171.23  34.4           smokes       1  \n",
              "3          Rural             174.12  24.0     never smoked       1  \n",
              "4          Urban             186.21  29.0  formerly smoked       1  "
            ],
            "text/html": [
              "\n",
              "  <div id=\"df-27618b07-722b-4c41-94de-39e26d6c1f69\">\n",
              "    <div class=\"colab-df-container\">\n",
              "      <div>\n",
              "<style scoped>\n",
              "    .dataframe tbody tr th:only-of-type {\n",
              "        vertical-align: middle;\n",
              "    }\n",
              "\n",
              "    .dataframe tbody tr th {\n",
              "        vertical-align: top;\n",
              "    }\n",
              "\n",
              "    .dataframe thead th {\n",
              "        text-align: right;\n",
              "    }\n",
              "</style>\n",
              "<table border=\"1\" class=\"dataframe\">\n",
              "  <thead>\n",
              "    <tr style=\"text-align: right;\">\n",
              "      <th></th>\n",
              "      <th>gender</th>\n",
              "      <th>age</th>\n",
              "      <th>hypertension</th>\n",
              "      <th>heart_disease</th>\n",
              "      <th>ever_married</th>\n",
              "      <th>work_type</th>\n",
              "      <th>Residence_type</th>\n",
              "      <th>avg_glucose_level</th>\n",
              "      <th>bmi</th>\n",
              "      <th>smoking_status</th>\n",
              "      <th>stroke</th>\n",
              "    </tr>\n",
              "  </thead>\n",
              "  <tbody>\n",
              "    <tr>\n",
              "      <th>0</th>\n",
              "      <td>Male</td>\n",
              "      <td>67.0</td>\n",
              "      <td>0</td>\n",
              "      <td>1</td>\n",
              "      <td>Yes</td>\n",
              "      <td>Private</td>\n",
              "      <td>Urban</td>\n",
              "      <td>228.69</td>\n",
              "      <td>36.6</td>\n",
              "      <td>formerly smoked</td>\n",
              "      <td>1</td>\n",
              "    </tr>\n",
              "    <tr>\n",
              "      <th>1</th>\n",
              "      <td>Male</td>\n",
              "      <td>80.0</td>\n",
              "      <td>0</td>\n",
              "      <td>1</td>\n",
              "      <td>Yes</td>\n",
              "      <td>Private</td>\n",
              "      <td>Rural</td>\n",
              "      <td>105.92</td>\n",
              "      <td>32.5</td>\n",
              "      <td>never smoked</td>\n",
              "      <td>1</td>\n",
              "    </tr>\n",
              "    <tr>\n",
              "      <th>2</th>\n",
              "      <td>Female</td>\n",
              "      <td>49.0</td>\n",
              "      <td>0</td>\n",
              "      <td>0</td>\n",
              "      <td>Yes</td>\n",
              "      <td>Private</td>\n",
              "      <td>Urban</td>\n",
              "      <td>171.23</td>\n",
              "      <td>34.4</td>\n",
              "      <td>smokes</td>\n",
              "      <td>1</td>\n",
              "    </tr>\n",
              "    <tr>\n",
              "      <th>3</th>\n",
              "      <td>Female</td>\n",
              "      <td>79.0</td>\n",
              "      <td>1</td>\n",
              "      <td>0</td>\n",
              "      <td>Yes</td>\n",
              "      <td>Self-employed</td>\n",
              "      <td>Rural</td>\n",
              "      <td>174.12</td>\n",
              "      <td>24.0</td>\n",
              "      <td>never smoked</td>\n",
              "      <td>1</td>\n",
              "    </tr>\n",
              "    <tr>\n",
              "      <th>4</th>\n",
              "      <td>Male</td>\n",
              "      <td>81.0</td>\n",
              "      <td>0</td>\n",
              "      <td>0</td>\n",
              "      <td>Yes</td>\n",
              "      <td>Private</td>\n",
              "      <td>Urban</td>\n",
              "      <td>186.21</td>\n",
              "      <td>29.0</td>\n",
              "      <td>formerly smoked</td>\n",
              "      <td>1</td>\n",
              "    </tr>\n",
              "  </tbody>\n",
              "</table>\n",
              "</div>\n",
              "      <button class=\"colab-df-convert\" onclick=\"convertToInteractive('df-27618b07-722b-4c41-94de-39e26d6c1f69')\"\n",
              "              title=\"Convert this dataframe to an interactive table.\"\n",
              "              style=\"display:none;\">\n",
              "        \n",
              "  <svg xmlns=\"http://www.w3.org/2000/svg\" height=\"24px\"viewBox=\"0 0 24 24\"\n",
              "       width=\"24px\">\n",
              "    <path d=\"M0 0h24v24H0V0z\" fill=\"none\"/>\n",
              "    <path d=\"M18.56 5.44l.94 2.06.94-2.06 2.06-.94-2.06-.94-.94-2.06-.94 2.06-2.06.94zm-11 1L8.5 8.5l.94-2.06 2.06-.94-2.06-.94L8.5 2.5l-.94 2.06-2.06.94zm10 10l.94 2.06.94-2.06 2.06-.94-2.06-.94-.94-2.06-.94 2.06-2.06.94z\"/><path d=\"M17.41 7.96l-1.37-1.37c-.4-.4-.92-.59-1.43-.59-.52 0-1.04.2-1.43.59L10.3 9.45l-7.72 7.72c-.78.78-.78 2.05 0 2.83L4 21.41c.39.39.9.59 1.41.59.51 0 1.02-.2 1.41-.59l7.78-7.78 2.81-2.81c.8-.78.8-2.07 0-2.86zM5.41 20L4 18.59l7.72-7.72 1.47 1.35L5.41 20z\"/>\n",
              "  </svg>\n",
              "      </button>\n",
              "      \n",
              "  <style>\n",
              "    .colab-df-container {\n",
              "      display:flex;\n",
              "      flex-wrap:wrap;\n",
              "      gap: 12px;\n",
              "    }\n",
              "\n",
              "    .colab-df-convert {\n",
              "      background-color: #E8F0FE;\n",
              "      border: none;\n",
              "      border-radius: 50%;\n",
              "      cursor: pointer;\n",
              "      display: none;\n",
              "      fill: #1967D2;\n",
              "      height: 32px;\n",
              "      padding: 0 0 0 0;\n",
              "      width: 32px;\n",
              "    }\n",
              "\n",
              "    .colab-df-convert:hover {\n",
              "      background-color: #E2EBFA;\n",
              "      box-shadow: 0px 1px 2px rgba(60, 64, 67, 0.3), 0px 1px 3px 1px rgba(60, 64, 67, 0.15);\n",
              "      fill: #174EA6;\n",
              "    }\n",
              "\n",
              "    [theme=dark] .colab-df-convert {\n",
              "      background-color: #3B4455;\n",
              "      fill: #D2E3FC;\n",
              "    }\n",
              "\n",
              "    [theme=dark] .colab-df-convert:hover {\n",
              "      background-color: #434B5C;\n",
              "      box-shadow: 0px 1px 3px 1px rgba(0, 0, 0, 0.15);\n",
              "      filter: drop-shadow(0px 1px 2px rgba(0, 0, 0, 0.3));\n",
              "      fill: #FFFFFF;\n",
              "    }\n",
              "  </style>\n",
              "\n",
              "      <script>\n",
              "        const buttonEl =\n",
              "          document.querySelector('#df-27618b07-722b-4c41-94de-39e26d6c1f69 button.colab-df-convert');\n",
              "        buttonEl.style.display =\n",
              "          google.colab.kernel.accessAllowed ? 'block' : 'none';\n",
              "\n",
              "        async function convertToInteractive(key) {\n",
              "          const element = document.querySelector('#df-27618b07-722b-4c41-94de-39e26d6c1f69');\n",
              "          const dataTable =\n",
              "            await google.colab.kernel.invokeFunction('convertToInteractive',\n",
              "                                                     [key], {});\n",
              "          if (!dataTable) return;\n",
              "\n",
              "          const docLinkHtml = 'Like what you see? Visit the ' +\n",
              "            '<a target=\"_blank\" href=https://colab.research.google.com/notebooks/data_table.ipynb>data table notebook</a>'\n",
              "            + ' to learn more about interactive tables.';\n",
              "          element.innerHTML = '';\n",
              "          dataTable['output_type'] = 'display_data';\n",
              "          await google.colab.output.renderOutput(dataTable, element);\n",
              "          const docLink = document.createElement('div');\n",
              "          docLink.innerHTML = docLinkHtml;\n",
              "          element.appendChild(docLink);\n",
              "        }\n",
              "      </script>\n",
              "    </div>\n",
              "  </div>\n",
              "  "
            ]
          },
          "metadata": {},
          "execution_count": 6
        }
      ]
    },
    {
      "cell_type": "code",
      "source": [
        "df.columns"
      ],
      "metadata": {
        "colab": {
          "base_uri": "https://localhost:8080/"
        },
        "id": "30MSFyC7MQvC",
        "outputId": "2d4a838e-b355-4c95-c607-6d55a40e3b52"
      },
      "execution_count": null,
      "outputs": [
        {
          "output_type": "execute_result",
          "data": {
            "text/plain": [
              "Index(['gender', 'age', 'hypertension', 'heart_disease', 'ever_married',\n",
              "       'work_type', 'Residence_type', 'avg_glucose_level', 'bmi',\n",
              "       'smoking_status', 'stroke'],\n",
              "      dtype='object')"
            ]
          },
          "metadata": {},
          "execution_count": 7
        }
      ]
    },
    {
      "cell_type": "code",
      "source": [
        "df.info()"
      ],
      "metadata": {
        "colab": {
          "base_uri": "https://localhost:8080/"
        },
        "id": "CUpQkSusMhdq",
        "outputId": "f4117ff1-5480-415d-8303-a39fd43f6e35"
      },
      "execution_count": null,
      "outputs": [
        {
          "output_type": "stream",
          "name": "stdout",
          "text": [
            "<class 'pandas.core.frame.DataFrame'>\n",
            "RangeIndex: 4981 entries, 0 to 4980\n",
            "Data columns (total 11 columns):\n",
            " #   Column             Non-Null Count  Dtype  \n",
            "---  ------             --------------  -----  \n",
            " 0   gender             4981 non-null   object \n",
            " 1   age                4981 non-null   float64\n",
            " 2   hypertension       4981 non-null   int64  \n",
            " 3   heart_disease      4981 non-null   int64  \n",
            " 4   ever_married       4981 non-null   object \n",
            " 5   work_type          4981 non-null   object \n",
            " 6   Residence_type     4981 non-null   object \n",
            " 7   avg_glucose_level  4981 non-null   float64\n",
            " 8   bmi                4981 non-null   float64\n",
            " 9   smoking_status     4981 non-null   object \n",
            " 10  stroke             4981 non-null   int64  \n",
            "dtypes: float64(3), int64(3), object(5)\n",
            "memory usage: 428.2+ KB\n"
          ]
        }
      ]
    },
    {
      "cell_type": "code",
      "source": [
        "df.shape"
      ],
      "metadata": {
        "colab": {
          "base_uri": "https://localhost:8080/"
        },
        "id": "_cUNUoOhMm-B",
        "outputId": "27317795-da15-4f35-f193-2e1bda53d2c0"
      },
      "execution_count": null,
      "outputs": [
        {
          "output_type": "execute_result",
          "data": {
            "text/plain": [
              "(4981, 11)"
            ]
          },
          "metadata": {},
          "execution_count": 9
        }
      ]
    },
    {
      "cell_type": "markdown",
      "source": [
        "## Описание датасета"
      ],
      "metadata": {
        "id": "_fvcq-idMtMY"
      }
    },
    {
      "cell_type": "markdown",
      "source": [
        "1. gender - пол\n",
        "2. age - возраст\n",
        "3. hypertension - наличие гипертонии\n",
        "4. heart_disease - наличие заболеваний сердца\n",
        "5. ever_married - состоял ли в браке\n",
        "6. work_type - тип работы\n",
        "7. Residence_type - местность проживания\n",
        "8. avg_glucose_level - средний уровень глюкозы \n",
        "9. bmi - индекс массы тела\n",
        "10. smoking_status - употребление табака\n",
        "11. **stroke** - Таргет, был ли инсульт у пациента\n"
      ],
      "metadata": {
        "id": "B1jnQ42uNf4p"
      }
    },
    {
      "cell_type": "code",
      "source": [
        "df.isna().sum()"
      ],
      "metadata": {
        "colab": {
          "base_uri": "https://localhost:8080/"
        },
        "id": "UZiBNmJRPpvE",
        "outputId": "4c905f77-18e5-4d21-9e61-b1fe1295515b"
      },
      "execution_count": null,
      "outputs": [
        {
          "output_type": "execute_result",
          "data": {
            "text/plain": [
              "gender               0\n",
              "age                  0\n",
              "hypertension         0\n",
              "heart_disease        0\n",
              "ever_married         0\n",
              "work_type            0\n",
              "Residence_type       0\n",
              "avg_glucose_level    0\n",
              "bmi                  0\n",
              "smoking_status       0\n",
              "stroke               0\n",
              "dtype: int64"
            ]
          },
          "metadata": {},
          "execution_count": 12
        }
      ]
    },
    {
      "cell_type": "code",
      "source": [
        "numerical_features = ['age', 'avg_glucose_level', 'bmi']\n",
        "target = 'stroke'\n",
        "categorical_features = [feat for feat in list(df.columns) if feat != target and feat not in numerical_features]"
      ],
      "metadata": {
        "id": "MxQAk3gxPqYu"
      },
      "execution_count": null,
      "outputs": []
    },
    {
      "cell_type": "markdown",
      "source": [
        "## Количественные параметры\n"
      ],
      "metadata": {
        "id": "xYAeNFEsQ2Bz"
      }
    },
    {
      "cell_type": "code",
      "source": [
        "df[numerical_features].describe()"
      ],
      "metadata": {
        "id": "MQqOkMiFQ-GN",
        "outputId": "ca50e89a-8db5-47d5-f3b9-ed2356a18658",
        "colab": {
          "base_uri": "https://localhost:8080/",
          "height": 300
        }
      },
      "execution_count": null,
      "outputs": [
        {
          "output_type": "execute_result",
          "data": {
            "text/plain": [
              "               age  avg_glucose_level          bmi\n",
              "count  4981.000000        4981.000000  4981.000000\n",
              "mean     43.419859         105.943562    28.498173\n",
              "std      22.662755          45.075373     6.790464\n",
              "min       0.080000          55.120000    14.000000\n",
              "25%      25.000000          77.230000    23.700000\n",
              "50%      45.000000          91.850000    28.100000\n",
              "75%      61.000000         113.860000    32.600000\n",
              "max      82.000000         271.740000    48.900000"
            ],
            "text/html": [
              "\n",
              "  <div id=\"df-3d4b737d-00d8-48d5-8d99-3c177a93e106\">\n",
              "    <div class=\"colab-df-container\">\n",
              "      <div>\n",
              "<style scoped>\n",
              "    .dataframe tbody tr th:only-of-type {\n",
              "        vertical-align: middle;\n",
              "    }\n",
              "\n",
              "    .dataframe tbody tr th {\n",
              "        vertical-align: top;\n",
              "    }\n",
              "\n",
              "    .dataframe thead th {\n",
              "        text-align: right;\n",
              "    }\n",
              "</style>\n",
              "<table border=\"1\" class=\"dataframe\">\n",
              "  <thead>\n",
              "    <tr style=\"text-align: right;\">\n",
              "      <th></th>\n",
              "      <th>age</th>\n",
              "      <th>avg_glucose_level</th>\n",
              "      <th>bmi</th>\n",
              "    </tr>\n",
              "  </thead>\n",
              "  <tbody>\n",
              "    <tr>\n",
              "      <th>count</th>\n",
              "      <td>4981.000000</td>\n",
              "      <td>4981.000000</td>\n",
              "      <td>4981.000000</td>\n",
              "    </tr>\n",
              "    <tr>\n",
              "      <th>mean</th>\n",
              "      <td>43.419859</td>\n",
              "      <td>105.943562</td>\n",
              "      <td>28.498173</td>\n",
              "    </tr>\n",
              "    <tr>\n",
              "      <th>std</th>\n",
              "      <td>22.662755</td>\n",
              "      <td>45.075373</td>\n",
              "      <td>6.790464</td>\n",
              "    </tr>\n",
              "    <tr>\n",
              "      <th>min</th>\n",
              "      <td>0.080000</td>\n",
              "      <td>55.120000</td>\n",
              "      <td>14.000000</td>\n",
              "    </tr>\n",
              "    <tr>\n",
              "      <th>25%</th>\n",
              "      <td>25.000000</td>\n",
              "      <td>77.230000</td>\n",
              "      <td>23.700000</td>\n",
              "    </tr>\n",
              "    <tr>\n",
              "      <th>50%</th>\n",
              "      <td>45.000000</td>\n",
              "      <td>91.850000</td>\n",
              "      <td>28.100000</td>\n",
              "    </tr>\n",
              "    <tr>\n",
              "      <th>75%</th>\n",
              "      <td>61.000000</td>\n",
              "      <td>113.860000</td>\n",
              "      <td>32.600000</td>\n",
              "    </tr>\n",
              "    <tr>\n",
              "      <th>max</th>\n",
              "      <td>82.000000</td>\n",
              "      <td>271.740000</td>\n",
              "      <td>48.900000</td>\n",
              "    </tr>\n",
              "  </tbody>\n",
              "</table>\n",
              "</div>\n",
              "      <button class=\"colab-df-convert\" onclick=\"convertToInteractive('df-3d4b737d-00d8-48d5-8d99-3c177a93e106')\"\n",
              "              title=\"Convert this dataframe to an interactive table.\"\n",
              "              style=\"display:none;\">\n",
              "        \n",
              "  <svg xmlns=\"http://www.w3.org/2000/svg\" height=\"24px\"viewBox=\"0 0 24 24\"\n",
              "       width=\"24px\">\n",
              "    <path d=\"M0 0h24v24H0V0z\" fill=\"none\"/>\n",
              "    <path d=\"M18.56 5.44l.94 2.06.94-2.06 2.06-.94-2.06-.94-.94-2.06-.94 2.06-2.06.94zm-11 1L8.5 8.5l.94-2.06 2.06-.94-2.06-.94L8.5 2.5l-.94 2.06-2.06.94zm10 10l.94 2.06.94-2.06 2.06-.94-2.06-.94-.94-2.06-.94 2.06-2.06.94z\"/><path d=\"M17.41 7.96l-1.37-1.37c-.4-.4-.92-.59-1.43-.59-.52 0-1.04.2-1.43.59L10.3 9.45l-7.72 7.72c-.78.78-.78 2.05 0 2.83L4 21.41c.39.39.9.59 1.41.59.51 0 1.02-.2 1.41-.59l7.78-7.78 2.81-2.81c.8-.78.8-2.07 0-2.86zM5.41 20L4 18.59l7.72-7.72 1.47 1.35L5.41 20z\"/>\n",
              "  </svg>\n",
              "      </button>\n",
              "      \n",
              "  <style>\n",
              "    .colab-df-container {\n",
              "      display:flex;\n",
              "      flex-wrap:wrap;\n",
              "      gap: 12px;\n",
              "    }\n",
              "\n",
              "    .colab-df-convert {\n",
              "      background-color: #E8F0FE;\n",
              "      border: none;\n",
              "      border-radius: 50%;\n",
              "      cursor: pointer;\n",
              "      display: none;\n",
              "      fill: #1967D2;\n",
              "      height: 32px;\n",
              "      padding: 0 0 0 0;\n",
              "      width: 32px;\n",
              "    }\n",
              "\n",
              "    .colab-df-convert:hover {\n",
              "      background-color: #E2EBFA;\n",
              "      box-shadow: 0px 1px 2px rgba(60, 64, 67, 0.3), 0px 1px 3px 1px rgba(60, 64, 67, 0.15);\n",
              "      fill: #174EA6;\n",
              "    }\n",
              "\n",
              "    [theme=dark] .colab-df-convert {\n",
              "      background-color: #3B4455;\n",
              "      fill: #D2E3FC;\n",
              "    }\n",
              "\n",
              "    [theme=dark] .colab-df-convert:hover {\n",
              "      background-color: #434B5C;\n",
              "      box-shadow: 0px 1px 3px 1px rgba(0, 0, 0, 0.15);\n",
              "      filter: drop-shadow(0px 1px 2px rgba(0, 0, 0, 0.3));\n",
              "      fill: #FFFFFF;\n",
              "    }\n",
              "  </style>\n",
              "\n",
              "      <script>\n",
              "        const buttonEl =\n",
              "          document.querySelector('#df-3d4b737d-00d8-48d5-8d99-3c177a93e106 button.colab-df-convert');\n",
              "        buttonEl.style.display =\n",
              "          google.colab.kernel.accessAllowed ? 'block' : 'none';\n",
              "\n",
              "        async function convertToInteractive(key) {\n",
              "          const element = document.querySelector('#df-3d4b737d-00d8-48d5-8d99-3c177a93e106');\n",
              "          const dataTable =\n",
              "            await google.colab.kernel.invokeFunction('convertToInteractive',\n",
              "                                                     [key], {});\n",
              "          if (!dataTable) return;\n",
              "\n",
              "          const docLinkHtml = 'Like what you see? Visit the ' +\n",
              "            '<a target=\"_blank\" href=https://colab.research.google.com/notebooks/data_table.ipynb>data table notebook</a>'\n",
              "            + ' to learn more about interactive tables.';\n",
              "          element.innerHTML = '';\n",
              "          dataTable['output_type'] = 'display_data';\n",
              "          await google.colab.output.renderOutput(dataTable, element);\n",
              "          const docLink = document.createElement('div');\n",
              "          docLink.innerHTML = docLinkHtml;\n",
              "          element.appendChild(docLink);\n",
              "        }\n",
              "      </script>\n",
              "    </div>\n",
              "  </div>\n",
              "  "
            ]
          },
          "metadata": {},
          "execution_count": 28
        }
      ]
    },
    {
      "cell_type": "code",
      "source": [
        "plt.figure(figsize=(15, 6))\n",
        "\n",
        "for i, feat in enumerate(numerical_features):\n",
        "    plt.subplot(1, 3, i+1)\n",
        "    sns.scatterplot(x=df[target], y=df[feat])\n",
        "    plt.xlabel(str(target))\n",
        "    plt.title(str(feat))\n",
        "\n",
        "plt.show()"
      ],
      "metadata": {
        "id": "i-WXvVN_RS29",
        "colab": {
          "base_uri": "https://localhost:8080/",
          "height": 404
        },
        "outputId": "2aa1a289-656d-480a-e693-3072d89ef9ca"
      },
      "execution_count": null,
      "outputs": [
        {
          "output_type": "display_data",
          "data": {
            "text/plain": [
              "<Figure size 1080x432 with 3 Axes>"
            ],
            "image/png": "[encoded data removed]"
          },
          "metadata": {
            "needs_background": "light"
          }
        }
      ]
    },
    {
      "cell_type": "markdown",
      "source": [
        "Из графиков видно, что шанс получить инсульт зависит от возраста: до 40 лет инсульт пациентов является единичныи случаями\n",
        "\n",
        "От среднего же уровня глюкозы и индекса массы тела закономерностей не видно\n"
      ],
      "metadata": {
        "id": "ystcUtRaTofQ"
      }
    },
    {
      "cell_type": "markdown",
      "source": [
        "## Категориальные параметры"
      ],
      "metadata": {
        "id": "D3UpbWE3VnUp"
      }
    },
    {
      "cell_type": "code",
      "source": [
        "plt.figure(figsize=(15, 35))\n",
        "colors = sns.color_palette('pastel')\n",
        "\n",
        "for i in range(0, len(categorical_features)-1, 2):\n",
        "    plt.subplot(9, 2, i+1)\n",
        "    plt.pie(x=df[categorical_features[i]].value_counts(), labels=df[categorical_features[i]].unique(), colors=colors, autopct='%.0f%%')\n",
        "    plt.title(str(categorical_features[i]))\n",
        "    plt.subplot(9, 2, i+2)\n",
        "    plt.pie(x=df[categorical_features[i+1]].value_counts(), labels=df[categorical_features[i+1]].unique(), colors=colors, autopct='%.0f%%')\n",
        "    plt.title(str(categorical_features[i+1]))\n",
        "\n",
        "plt.tight_layout()\n",
        "plt.show()"
      ],
      "metadata": {
        "colab": {
          "base_uri": "https://localhost:8080/",
          "height": 856
        },
        "id": "L55wU8yfVxYZ",
        "outputId": "92828941-dbca-4d23-f461-3405d7610a62"
      },
      "execution_count": null,
      "outputs": [
        {
          "output_type": "display_data",
          "data": {
            "text/plain": [
              "<Figure size 1080x2520 with 6 Axes>"
            ],
            "image/png": "[encoded data removed]"
          },
          "metadata": {}
        }
      ]
    },
    {
      "cell_type": "markdown",
      "source": [
        "\n",
        "Из полученных графиков видно, что:\n",
        "*   гипертонией страдают 10% отпрошенных\n",
        "*   заболеваниями сердца 94% \n",
        "* в браке состояло 2/3\n",
        "* больше половины работают в частном бизнесе\n",
        "* распределение жилья в городской и сельской местности отличаются на 2%\n",
        "\n",
        "\n",
        "\n"
      ],
      "metadata": {
        "id": "Zu2parUPYQSY"
      }
    },
    {
      "cell_type": "markdown",
      "source": [
        "## Таргет"
      ],
      "metadata": {
        "id": "cltaAJv6XVcB"
      }
    },
    {
      "cell_type": "code",
      "source": [
        "plt.pie(x=df[target].value_counts(), labels=df[target].unique(), colors=colors, autopct='%.0f%%')\n",
        "plt.title(target)\n",
        "plt.show()"
      ],
      "metadata": {
        "colab": {
          "base_uri": "https://localhost:8080/",
          "height": 264
        },
        "id": "cfagNoZuXYux",
        "outputId": "122e22d0-4e3a-44a0-949f-492517a01572"
      },
      "execution_count": null,
      "outputs": [
        {
          "output_type": "display_data",
          "data": {
            "text/plain": [
              "<Figure size 432x288 with 1 Axes>"
            ],
            "image/png": "[encoded data removed]"
          },
          "metadata": {}
        }
      ]
    },
    {
      "cell_type": "markdown",
      "source": [
        "Классы очень несбалансированные. Имеем соотношение 95/5. Это нужно будет учитывать в дальнейшем.\n",
        "\n",
        "Посмотрим на корреляционную матрицу:"
      ],
      "metadata": {
        "id": "xbZepWB7YI2y"
      }
    },
    {
      "cell_type": "code",
      "source": [
        "plt.figure(figsize=(10, 8))\n",
        "sns.heatmap(df.corr(), cmap='Blues')\n",
        "plt.show()"
      ],
      "metadata": {
        "colab": {
          "base_uri": "https://localhost:8080/",
          "height": 568
        },
        "id": "-T1I9FYgafPl",
        "outputId": "04a39a8a-17af-46d4-ab8b-2de5a5534766"
      },
      "execution_count": null,
      "outputs": [
        {
          "output_type": "display_data",
          "data": {
            "text/plain": [
              "<Figure size 720x576 with 2 Axes>"
            ],
            "image/png": "[encoded data removed]"
          },
          "metadata": {
            "needs_background": "light"
          }
        }
      ]
    },
    {
      "cell_type": "code",
      "source": [
        "df.corr().style.background_gradient(cmap='coolwarm').set_precision(2)\n"
      ],
      "metadata": {
        "colab": {
          "base_uri": "https://localhost:8080/",
          "height": 274
        },
        "id": "RULIAXtpajsR",
        "outputId": "44f2ad8b-ca03-4fc3-8c19-2c1c3303428c"
      },
      "execution_count": null,
      "outputs": [
        {
          "output_type": "stream",
          "name": "stderr",
          "text": [
            "/usr/local/lib/python3.7/dist-packages/ipykernel_launcher.py:1: FutureWarning: this method is deprecated in favour of `Styler.format(precision=..)`\n",
            "  \"\"\"Entry point for launching an IPython kernel.\n"
          ]
        },
        {
          "output_type": "execute_result",
          "data": {
            "text/plain": [
              "<pandas.io.formats.style.Styler at 0x7f86d731abd0>"
            ],
            "text/html": [
              "<style type=\"text/css\">\n",
              "#T_c9b97_row0_col0, #T_c9b97_row1_col1, #T_c9b97_row2_col2, #T_c9b97_row3_col3, #T_c9b97_row4_col4, #T_c9b97_row5_col5 {\n",
              "  background-color: #b40426;\n",
              "  color: #f1f1f1;\n",
              "}\n",
              "#T_c9b97_row0_col1 {\n",
              "  background-color: #7699f6;\n",
              "  color: #f1f1f1;\n",
              "}\n",
              "#T_c9b97_row0_col2 {\n",
              "  background-color: #81a4fb;\n",
              "  color: #f1f1f1;\n",
              "}\n",
              "#T_c9b97_row0_col3 {\n",
              "  background-color: #5f7fe8;\n",
              "  color: #f1f1f1;\n",
              "}\n",
              "#T_c9b97_row0_col4 {\n",
              "  background-color: #aac7fd;\n",
              "  color: #000000;\n",
              "}\n",
              "#T_c9b97_row0_col5 {\n",
              "  background-color: #7b9ff9;\n",
              "  color: #f1f1f1;\n",
              "}\n",
              "#T_c9b97_row1_col0, #T_c9b97_row1_col2, #T_c9b97_row4_col1 {\n",
              "  background-color: #4a63d3;\n",
              "  color: #f1f1f1;\n",
              "}\n",
              "#T_c9b97_row1_col3 {\n",
              "  background-color: #465ecf;\n",
              "  color: #f1f1f1;\n",
              "}\n",
              "#T_c9b97_row1_col4 {\n",
              "  background-color: #5b7ae5;\n",
              "  color: #f1f1f1;\n",
              "}\n",
              "#T_c9b97_row1_col5, #T_c9b97_row3_col5, #T_c9b97_row5_col2 {\n",
              "  background-color: #536edd;\n",
              "  color: #f1f1f1;\n",
              "}\n",
              "#T_c9b97_row2_col0, #T_c9b97_row2_col3 {\n",
              "  background-color: #455cce;\n",
              "  color: #f1f1f1;\n",
              "}\n",
              "#T_c9b97_row2_col1, #T_c9b97_row3_col0, #T_c9b97_row4_col2, #T_c9b97_row4_col5, #T_c9b97_row5_col3, #T_c9b97_row5_col4 {\n",
              "  background-color: #3b4cc0;\n",
              "  color: #f1f1f1;\n",
              "}\n",
              "#T_c9b97_row2_col4 {\n",
              "  background-color: #3c4ec2;\n",
              "  color: #f1f1f1;\n",
              "}\n",
              "#T_c9b97_row2_col5 {\n",
              "  background-color: #5470de;\n",
              "  color: #f1f1f1;\n",
              "}\n",
              "#T_c9b97_row3_col1 {\n",
              "  background-color: #4e68d8;\n",
              "  color: #f1f1f1;\n",
              "}\n",
              "#T_c9b97_row3_col2 {\n",
              "  background-color: #5d7ce6;\n",
              "  color: #f1f1f1;\n",
              "}\n",
              "#T_c9b97_row3_col4 {\n",
              "  background-color: #6687ed;\n",
              "  color: #f1f1f1;\n",
              "}\n",
              "#T_c9b97_row4_col0 {\n",
              "  background-color: #7396f5;\n",
              "  color: #f1f1f1;\n",
              "}\n",
              "#T_c9b97_row4_col3 {\n",
              "  background-color: #4c66d6;\n",
              "  color: #f1f1f1;\n",
              "}\n",
              "#T_c9b97_row5_col0 {\n",
              "  background-color: #3e51c5;\n",
              "  color: #f1f1f1;\n",
              "}\n",
              "#T_c9b97_row5_col1 {\n",
              "  background-color: #4055c8;\n",
              "  color: #f1f1f1;\n",
              "}\n",
              "</style>\n",
              "<table id=\"T_c9b97_\" class=\"dataframe\">\n",
              "  <thead>\n",
              "    <tr>\n",
              "      <th class=\"blank level0\" >&nbsp;</th>\n",
              "      <th class=\"col_heading level0 col0\" >age</th>\n",
              "      <th class=\"col_heading level0 col1\" >hypertension</th>\n",
              "      <th class=\"col_heading level0 col2\" >heart_disease</th>\n",
              "      <th class=\"col_heading level0 col3\" >avg_glucose_level</th>\n",
              "      <th class=\"col_heading level0 col4\" >bmi</th>\n",
              "      <th class=\"col_heading level0 col5\" >stroke</th>\n",
              "    </tr>\n",
              "  </thead>\n",
              "  <tbody>\n",
              "    <tr>\n",
              "      <th id=\"T_c9b97_level0_row0\" class=\"row_heading level0 row0\" >age</th>\n",
              "      <td id=\"T_c9b97_row0_col0\" class=\"data row0 col0\" >1.00</td>\n",
              "      <td id=\"T_c9b97_row0_col1\" class=\"data row0 col1\" >0.28</td>\n",
              "      <td id=\"T_c9b97_row0_col2\" class=\"data row0 col2\" >0.26</td>\n",
              "      <td id=\"T_c9b97_row0_col3\" class=\"data row0 col3\" >0.24</td>\n",
              "      <td id=\"T_c9b97_row0_col4\" class=\"data row0 col4\" >0.37</td>\n",
              "      <td id=\"T_c9b97_row0_col5\" class=\"data row0 col5\" >0.25</td>\n",
              "    </tr>\n",
              "    <tr>\n",
              "      <th id=\"T_c9b97_level0_row1\" class=\"row_heading level0 row1\" >hypertension</th>\n",
              "      <td id=\"T_c9b97_row1_col0\" class=\"data row1 col0\" >0.28</td>\n",
              "      <td id=\"T_c9b97_row1_col1\" class=\"data row1 col1\" >1.00</td>\n",
              "      <td id=\"T_c9b97_row1_col2\" class=\"data row1 col2\" >0.11</td>\n",
              "      <td id=\"T_c9b97_row1_col3\" class=\"data row1 col3\" >0.17</td>\n",
              "      <td id=\"T_c9b97_row1_col4\" class=\"data row1 col4\" >0.16</td>\n",
              "      <td id=\"T_c9b97_row1_col5\" class=\"data row1 col5\" >0.13</td>\n",
              "    </tr>\n",
              "    <tr>\n",
              "      <th id=\"T_c9b97_level0_row2\" class=\"row_heading level0 row2\" >heart_disease</th>\n",
              "      <td id=\"T_c9b97_row2_col0\" class=\"data row2 col0\" >0.26</td>\n",
              "      <td id=\"T_c9b97_row2_col1\" class=\"data row2 col1\" >0.11</td>\n",
              "      <td id=\"T_c9b97_row2_col2\" class=\"data row2 col2\" >1.00</td>\n",
              "      <td id=\"T_c9b97_row2_col3\" class=\"data row2 col3\" >0.17</td>\n",
              "      <td id=\"T_c9b97_row2_col4\" class=\"data row2 col4\" >0.06</td>\n",
              "      <td id=\"T_c9b97_row2_col5\" class=\"data row2 col5\" >0.13</td>\n",
              "    </tr>\n",
              "    <tr>\n",
              "      <th id=\"T_c9b97_level0_row3\" class=\"row_heading level0 row3\" >avg_glucose_level</th>\n",
              "      <td id=\"T_c9b97_row3_col0\" class=\"data row3 col0\" >0.24</td>\n",
              "      <td id=\"T_c9b97_row3_col1\" class=\"data row3 col1\" >0.17</td>\n",
              "      <td id=\"T_c9b97_row3_col2\" class=\"data row3 col2\" >0.17</td>\n",
              "      <td id=\"T_c9b97_row3_col3\" class=\"data row3 col3\" >1.00</td>\n",
              "      <td id=\"T_c9b97_row3_col4\" class=\"data row3 col4\" >0.19</td>\n",
              "      <td id=\"T_c9b97_row3_col5\" class=\"data row3 col5\" >0.13</td>\n",
              "    </tr>\n",
              "    <tr>\n",
              "      <th id=\"T_c9b97_level0_row4\" class=\"row_heading level0 row4\" >bmi</th>\n",
              "      <td id=\"T_c9b97_row4_col0\" class=\"data row4 col0\" >0.37</td>\n",
              "      <td id=\"T_c9b97_row4_col1\" class=\"data row4 col1\" >0.16</td>\n",
              "      <td id=\"T_c9b97_row4_col2\" class=\"data row4 col2\" >0.06</td>\n",
              "      <td id=\"T_c9b97_row4_col3\" class=\"data row4 col3\" >0.19</td>\n",
              "      <td id=\"T_c9b97_row4_col4\" class=\"data row4 col4\" >1.00</td>\n",
              "      <td id=\"T_c9b97_row4_col5\" class=\"data row4 col5\" >0.06</td>\n",
              "    </tr>\n",
              "    <tr>\n",
              "      <th id=\"T_c9b97_level0_row5\" class=\"row_heading level0 row5\" >stroke</th>\n",
              "      <td id=\"T_c9b97_row5_col0\" class=\"data row5 col0\" >0.25</td>\n",
              "      <td id=\"T_c9b97_row5_col1\" class=\"data row5 col1\" >0.13</td>\n",
              "      <td id=\"T_c9b97_row5_col2\" class=\"data row5 col2\" >0.13</td>\n",
              "      <td id=\"T_c9b97_row5_col3\" class=\"data row5 col3\" >0.13</td>\n",
              "      <td id=\"T_c9b97_row5_col4\" class=\"data row5 col4\" >0.06</td>\n",
              "      <td id=\"T_c9b97_row5_col5\" class=\"data row5 col5\" >1.00</td>\n",
              "    </tr>\n",
              "  </tbody>\n",
              "</table>\n"
            ]
          },
          "metadata": {},
          "execution_count": 40
        }
      ]
    },
    {
      "cell_type": "markdown",
      "source": [
        "\n",
        "* Возраст сильно коррелирует с остальными параметрами, что логично. Из этих параметров больше всего коррелирует ИМТ\n",
        "* Таргет тоже довольно сильно коррелирует с возрастом, но не с ИМТ\n",
        "* Таргет также коррелирует от гипортенией и заболеваниями сердца. Гипортения и заболевания сердца тоже коррелируют между собой, что означает, что болеющим одной из болезней хорошо бы провериться на остальные\n"
      ],
      "metadata": {
        "id": "jHtcaM_yarqh"
      }
    },
    {
      "cell_type": "markdown",
      "source": [
        "## Вывод\n",
        "Я убедилась, что целевая переменная зависит от имеющихся признаков. Следовательно, у нас есть все шансы получить хорошую модель."
      ],
      "metadata": {
        "id": "LOEnbESpf8CE"
      }
    }
  ]
}